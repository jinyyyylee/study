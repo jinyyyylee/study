{
  "nbformat": 4,
  "nbformat_minor": 0,
  "metadata": {
    "colab": {
      "name": "Untitled9.ipynb",
      "provenance": []
    },
    "kernelspec": {
      "name": "python3",
      "display_name": "Python 3"
    }
  },
  "cells": [
    {
      "cell_type": "code",
      "metadata": {
        "id": "YF5D3I-ExAUn",
        "colab_type": "code",
        "colab": {}
      },
      "source": [
        "import numpy as np\n",
        "import matplotlib.pyplot as plt\n",
        "import graphviz\n",
        "import pandas as pd \n",
        "from bs4 import BeautifulSoup\n",
        "from sklearn.datasets import load_iris\n",
        "from sklearn.preprocessing import StandardScaler\n",
        "from sklearn.model_selection import train_test_split\n",
        "from sklearn import tree, neighbors\n",
        "from sklearn.metrics import confusion_matrix, classification_report, accuracy_score"
      ],
      "execution_count": null,
      "outputs": []
    },
    {
      "cell_type": "code",
      "metadata": {
        "id": "00-SVfDoxDa9",
        "colab_type": "code",
        "colab": {
          "base_uri": "https://localhost:8080/",
          "height": 34
        },
        "outputId": "46586c44-e073-4bf8-a098-56bb55c0e920"
      },
      "source": [
        "from google.colab import drive\n",
        "drive.mount('/content/drive')"
      ],
      "execution_count": null,
      "outputs": [
        {
          "output_type": "stream",
          "text": [
            "Drive already mounted at /content/drive; to attempt to forcibly remount, call drive.mount(\"/content/drive\", force_remount=True).\n"
          ],
          "name": "stdout"
        }
      ]
    },
    {
      "cell_type": "code",
      "metadata": {
        "id": "_Y7mWjqBxDpo",
        "colab_type": "code",
        "colab": {}
      },
      "source": [
        "iris = load_iris()\n",
        "iris_dataset = load_iris()"
      ],
      "execution_count": null,
      "outputs": []
    },
    {
      "cell_type": "code",
      "metadata": {
        "id": "s1i5ZtJWxKpD",
        "colab_type": "code",
        "colab": {
          "base_uri": "https://localhost:8080/",
          "height": 402
        },
        "outputId": "4ff1bbfd-d8ec-4159-a1a8-bad7fdf16cfb"
      },
      "source": [
        "data = load_iris()\n",
        "df = pd.read_csv('https://archive.ics.uci.edu/ml/''machine-learning-databases/iris/iris.data')\n",
        "df.drop(['1.4','0.2'],axis=1,inplace=True)\n",
        "df=df.rename({'5.1':'sepal length','3.5':'sepal width','Iris-setosa':'iris'},axis='columns')\n",
        "df = df[~df['iris'].isin(['Iris-virginica'])]\n",
        "df"
      ],
      "execution_count": null,
      "outputs": [
        {
          "output_type": "execute_result",
          "data": {
            "text/html": [
              "<div>\n",
              "<style scoped>\n",
              "    .dataframe tbody tr th:only-of-type {\n",
              "        vertical-align: middle;\n",
              "    }\n",
              "\n",
              "    .dataframe tbody tr th {\n",
              "        vertical-align: top;\n",
              "    }\n",
              "\n",
              "    .dataframe thead th {\n",
              "        text-align: right;\n",
              "    }\n",
              "</style>\n",
              "<table border=\"1\" class=\"dataframe\">\n",
              "  <thead>\n",
              "    <tr style=\"text-align: right;\">\n",
              "      <th></th>\n",
              "      <th>sepal length</th>\n",
              "      <th>sepal width</th>\n",
              "      <th>iris</th>\n",
              "    </tr>\n",
              "  </thead>\n",
              "  <tbody>\n",
              "    <tr>\n",
              "      <th>0</th>\n",
              "      <td>4.9</td>\n",
              "      <td>3.0</td>\n",
              "      <td>Iris-setosa</td>\n",
              "    </tr>\n",
              "    <tr>\n",
              "      <th>1</th>\n",
              "      <td>4.7</td>\n",
              "      <td>3.2</td>\n",
              "      <td>Iris-setosa</td>\n",
              "    </tr>\n",
              "    <tr>\n",
              "      <th>2</th>\n",
              "      <td>4.6</td>\n",
              "      <td>3.1</td>\n",
              "      <td>Iris-setosa</td>\n",
              "    </tr>\n",
              "    <tr>\n",
              "      <th>3</th>\n",
              "      <td>5.0</td>\n",
              "      <td>3.6</td>\n",
              "      <td>Iris-setosa</td>\n",
              "    </tr>\n",
              "    <tr>\n",
              "      <th>4</th>\n",
              "      <td>5.4</td>\n",
              "      <td>3.9</td>\n",
              "      <td>Iris-setosa</td>\n",
              "    </tr>\n",
              "    <tr>\n",
              "      <th>...</th>\n",
              "      <td>...</td>\n",
              "      <td>...</td>\n",
              "      <td>...</td>\n",
              "    </tr>\n",
              "    <tr>\n",
              "      <th>94</th>\n",
              "      <td>5.7</td>\n",
              "      <td>3.0</td>\n",
              "      <td>Iris-versicolor</td>\n",
              "    </tr>\n",
              "    <tr>\n",
              "      <th>95</th>\n",
              "      <td>5.7</td>\n",
              "      <td>2.9</td>\n",
              "      <td>Iris-versicolor</td>\n",
              "    </tr>\n",
              "    <tr>\n",
              "      <th>96</th>\n",
              "      <td>6.2</td>\n",
              "      <td>2.9</td>\n",
              "      <td>Iris-versicolor</td>\n",
              "    </tr>\n",
              "    <tr>\n",
              "      <th>97</th>\n",
              "      <td>5.1</td>\n",
              "      <td>2.5</td>\n",
              "      <td>Iris-versicolor</td>\n",
              "    </tr>\n",
              "    <tr>\n",
              "      <th>98</th>\n",
              "      <td>5.7</td>\n",
              "      <td>2.8</td>\n",
              "      <td>Iris-versicolor</td>\n",
              "    </tr>\n",
              "  </tbody>\n",
              "</table>\n",
              "<p>99 rows × 3 columns</p>\n",
              "</div>"
            ],
            "text/plain": [
              "    sepal length  sepal width             iris\n",
              "0            4.9          3.0      Iris-setosa\n",
              "1            4.7          3.2      Iris-setosa\n",
              "2            4.6          3.1      Iris-setosa\n",
              "3            5.0          3.6      Iris-setosa\n",
              "4            5.4          3.9      Iris-setosa\n",
              "..           ...          ...              ...\n",
              "94           5.7          3.0  Iris-versicolor\n",
              "95           5.7          2.9  Iris-versicolor\n",
              "96           6.2          2.9  Iris-versicolor\n",
              "97           5.1          2.5  Iris-versicolor\n",
              "98           5.7          2.8  Iris-versicolor\n",
              "\n",
              "[99 rows x 3 columns]"
            ]
          },
          "metadata": {
            "tags": []
          },
          "execution_count": 112
        }
      ]
    },
    {
      "cell_type": "code",
      "metadata": {
        "id": "JRBY_JIxEi_9",
        "colab_type": "code",
        "colab": {}
      },
      "source": [
        "x = df[['sepal length','sepal width']]\n",
        "y = df['iris']"
      ],
      "execution_count": null,
      "outputs": []
    },
    {
      "cell_type": "code",
      "metadata": {
        "id": "uXvHpwqsxQO9",
        "colab_type": "code",
        "colab": {
          "base_uri": "https://localhost:8080/",
          "height": 87
        },
        "outputId": "2bdc7a6d-1536-4d9f-aee0-712ee48f3557"
      },
      "source": [
        "from sklearn.svm import SVC\n",
        "model = SVC(kernel = 'linear',C=1e10).fit(x,y)\n",
        "print(model)"
      ],
      "execution_count": null,
      "outputs": [
        {
          "output_type": "stream",
          "text": [
            "SVC(C=10000000000.0, break_ties=False, cache_size=200, class_weight=None,\n",
            "    coef0=0.0, decision_function_shape='ovr', degree=3, gamma='scale',\n",
            "    kernel='linear', max_iter=-1, probability=False, random_state=None,\n",
            "    shrinking=True, tol=0.001, verbose=False)\n"
          ],
          "name": "stdout"
        }
      ]
    },
    {
      "cell_type": "markdown",
      "metadata": {
        "id": "lJmbnRnunZV4",
        "colab_type": "text"
      },
      "source": [
        "모델 테스트"
      ]
    },
    {
      "cell_type": "code",
      "metadata": {
        "id": "oPk3Tsv3nX3j",
        "colab_type": "code",
        "colab": {}
      },
      "source": [
        "# from sklearn.datasets import make_blobs\n",
        "# X, y = make_blobs(n_samples=50, centers=2, cluster_std=0.5, random_state=4)\n",
        "# y = 2 * y - 1\n",
        "\n",
        "# plt.scatter(X[y == -1, 0], X[y == -1, 1], marker='o', label=\"-1 class\")\n",
        "# plt.scatter(X[y == +1, 0], X[y == +1, 1], marker='x', label=\"+1 class\")\n",
        "# plt.xlabel(\"x1\")\n",
        "# plt.ylabel(\"x2\")\n",
        "# plt.legend()\n",
        "# plt.title(\"training dataset\")\n",
        "# plt.show()"
      ],
      "execution_count": null,
      "outputs": []
    },
    {
      "cell_type": "code",
      "metadata": {
        "id": "pKZn1oJZxQbd",
        "colab_type": "code",
        "colab": {
          "base_uri": "https://localhost:8080/",
          "height": 295
        },
        "outputId": "fd851a04-d747-4fab-a54d-db033d3f43c5"
      },
      "source": [
        "# xmin = X[:, 0].min()\n",
        "# xmax = X[:, 0].max()\n",
        "# ymin = X[:, 1].min()\n",
        "# ymax = X[:, 1].max()\n",
        "# xx = np.linspace(xmin, xmax, 10)\n",
        "# yy = np.linspace(ymin, ymax, 10)\n",
        "# X1, X2 = np.meshgrid(xx, yy)\n",
        "\n",
        "# Z = np.empty(X1.shape)\n",
        "# # for (i, j), val in np.ndenumerate(X1):\n",
        "#     x1 = val\n",
        "#     x2 = X2[i, j]\n",
        "#     p = model.decision_function([[x1, x2]])\n",
        "#     Z[i, j] = p[0]\n",
        "# levels = [-1, 0, 1]\n",
        "# linestyles = ['dashed', 'solid', 'dashed']\n",
        "# plt.scatter(X[y == -1, 0], X[y == -1, 1], marker='o', label=\"-1 class\")\n",
        "# plt.scatter(X[y == +1, 0], X[y == +1, 1], marker='x', label=\"+1 class\")\n",
        "# plt.contour(X1, X2, Z, levels, colors='k', linestyles=linestyles)\n",
        "# plt.scatter(model.support_vectors_[:, 0], model.support_vectors_[:, 1], s=300, alpha=0.3)\n",
        "\n",
        "# x_new = [10, 2]\n",
        "# plt.scatter(x_new[0], x_new[1], marker='^', s=100)\n",
        "# plt.text(x_new[0] + 0.03, x_new[1] + 0.08, \"test data\")\n",
        "\n",
        "# plt.xlabel(\"x1\")\n",
        "# plt.ylabel(\"x2\")\n",
        "# plt.legend()\n",
        "# plt.title(\"SVM prediction\")\n",
        "\n",
        "# plt.show()"
      ],
      "execution_count": null,
      "outputs": [
        {
          "output_type": "display_data",
          "data": {
            "image/png": "[encoded data removed]",
            "text/plain": [
              "<Figure size 432x288 with 1 Axes>"
            ]
          },
          "metadata": {
            "tags": [],
            "needs_background": "light"
          }
        }
      ]
    },
    {
      "cell_type": "code",
      "metadata": {
        "id": "x2zSRuySxQl2",
        "colab_type": "code",
        "colab": {}
      },
      "source": [
        ""
      ],
      "execution_count": null,
      "outputs": []
    }
  ]
}