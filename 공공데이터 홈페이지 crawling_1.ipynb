{
  "nbformat": 4,
  "nbformat_minor": 0,
  "metadata": {
    "colab": {
      "name": "Untitled5.ipynb",
      "provenance": [],
      "collapsed_sections": []
    },
    "kernelspec": {
      "name": "python3",
      "display_name": "Python 3"
    }
  },
  "cells": [
    {
      "cell_type": "code",
      "metadata": {
        "id": "YzY16O4yhjpG",
        "colab_type": "code",
        "colab": {}
      },
      "source": [
        "import matplotlib.pyplot as plt\n",
        "%matplotlib inline\n",
        "import numpy as np\n",
        "import pandas as pd\n",
        "from numpy import NAN"
      ],
      "execution_count": null,
      "outputs": []
    },
    {
      "cell_type": "code",
      "metadata": {
        "id": "ZYe3BS4w-veW",
        "colab_type": "code",
        "colab": {}
      },
      "source": [
        "x = np.random.uniform(0.0,5.0,250)#0~5까지의 250개의 데이터\n",
        "plt.figure(figsize=(5,6))\n",
        "plt.hist(x,5)\n",
        "plt.xlabel('X')\n",
        "plt.ylabel(\"frequency\")\n",
        "plt.title(\"random numbers vs. Frequency\")\n",
        "plt.show()"
      ],
      "execution_count": null,
      "outputs": []
    },
    {
      "cell_type": "code",
      "metadata": {
        "id": "Ci9BBX27_gJR",
        "colab_type": "code",
        "colab": {}
      },
      "source": [
        "x = np.random.uniform(0.0,5.0,1000)\n",
        "plt.hist(x,10)#막대의 개수는 10개\n",
        "plt.show()"
      ],
      "execution_count": null,
      "outputs": []
    },
    {
      "cell_type": "code",
      "metadata": {
        "id": "Pb21gfNO_p8n",
        "colab_type": "code",
        "colab": {
          "base_uri": "https://localhost:8080/",
          "height": 295
        },
        "outputId": "fa6cecbb-8994-47a9-cfbb-712451d0630d"
      },
      "source": [
        "x = ['Mon','Tue','Wed','Thur','Fri','Sat','Sun']\n",
        "y1=[13,16,15,18,16,17,16]\n",
        "y2=[17,14,17,16,15,15,14]\n",
        "plt.xlabel('Daily')\n",
        "plt.ylabel('No. of Books Sold')\n",
        "plt.plot(x,y1,label='Sold')\n",
        "plt.plot(x,y2,label='On Shelves')\n",
        "plt.legend(loc=\"upper left\")\n",
        "plt.title('Le Petit Prince: Sold & Left')\n",
        "plt.show()"
      ],
      "execution_count": null,
      "outputs": [
        {
          "output_type": "display_data",
          "data": {
            "image/png": "[encoded data removed]",
            "text/plain": [
              "<Figure size 432x288 with 1 Axes>"
            ]
          },
          "metadata": {
            "tags": [],
            "needs_background": "light"
          }
        }
      ]
    },
    {
      "cell_type": "code",
      "metadata": {
        "id": "3RpnnPmSAtBJ",
        "colab_type": "code",
        "colab": {
          "base_uri": "https://localhost:8080/",
          "height": 269
        },
        "outputId": "36bbd067-8cf6-4c08-c31a-125e243ed87f"
      },
      "source": [
        "x= [1,2,3,4,5]\n",
        "y=[1,4,9,16,25]\n",
        "plt.plot(x,y,'bo')\n",
        "plt.axis([0,6,0,30])\n",
        "plt.show()"
      ],
      "execution_count": null,
      "outputs": [
        {
          "output_type": "display_data",
          "data": {
            "image/png": "[encoded data removed]",
            "text/plain": [
              "<Figure size 432x288 with 1 Axes>"
            ]
          },
          "metadata": {
            "tags": [],
            "needs_background": "light"
          }
        }
      ]
    },
    {
      "cell_type": "code",
      "metadata": {
        "id": "i2H3oBBqBJB6",
        "colab_type": "code",
        "colab": {}
      },
      "source": [
        "x = np.linspace(0,10,20)\n",
        "y1=x**2.0\n",
        "y2=x**1.5\n",
        "plt.plot(x,y1,\"bo-\",linewidth=2,markersize=12,label=\"First\")\n",
        "plt.plot(x,y2,\"gs-\",linewidth=2,markersize=12,label=\"Second\")\n",
        "plt.xlabel('X')\n",
        "plt.ylabel(\"Y\")\n",
        "plt.axis([-0.5,10.5,-5,105])\n",
        "plt.legend(loc=\"upper left\")\n",
        "plt.savefig('mplot.pdf')"
      ],
      "execution_count": null,
      "outputs": []
    },
    {
      "cell_type": "code",
      "metadata": {
        "id": "4jI8wBn8CVAc",
        "colab_type": "code",
        "colab": {}
      },
      "source": [
        "x=np.random.standard_normal(size=10000)\n",
        "plt.hist(x,density=True)#바의 개수를 설정하지 않으면 default로 10개 설정  <a list of 10 Patch objects>)\n",
        "plt.show()"
      ],
      "execution_count": null,
      "outputs": []
    },
    {
      "cell_type": "code",
      "metadata": {
        "id": "301jvh_0CumF",
        "colab_type": "code",
        "colab": {}
      },
      "source": [
        "x=np.random.randn(10000)\n",
        "plt.hist(x)"
      ],
      "execution_count": null,
      "outputs": []
    },
    {
      "cell_type": "code",
      "metadata": {
        "id": "lAmvOuywDVbw",
        "colab_type": "code",
        "colab": {}
      },
      "source": [
        "age_car=[5,7,8,7,2,17,2,9,4,11,12,9,6]\n",
        "speed_car = [99,86,87,88,111,86,103,87,94,78,77,85,86]\n",
        "plt.scatter(age_car,speed_car,marker='+',c='r')\n",
        "plt.xlabel('age_car')\n",
        "plt.ylabel('speed_car')\n",
        "plt.show()"
      ],
      "execution_count": null,
      "outputs": []
    },
    {
      "cell_type": "code",
      "metadata": {
        "id": "c66QtwC5D1N2",
        "colab_type": "code",
        "colab": {}
      },
      "source": [
        "x = np.random.normal(5.0,1.0,1000)\n",
        "y = np.random.normal(10.0,2.0,1000)\n",
        "plt.scatter(x,y)\n",
        "plt.show()"
      ],
      "execution_count": null,
      "outputs": []
    },
    {
      "cell_type": "code",
      "metadata": {
        "id": "JNj8BgllERaH",
        "colab_type": "code",
        "colab": {}
      },
      "source": [
        "x = pd.Series([7,3,5,8])\n",
        "print(x)\n",
        "x=pd.Series([7,5,4,5],index=['서울','대구','부산','광주'])\n",
        "display(x)\n",
        "print(x['서울'])\n",
        "print(x[['서울','대구']])"
      ],
      "execution_count": null,
      "outputs": []
    },
    {
      "cell_type": "code",
      "metadata": {
        "id": "mjLrt0ZAE2-P",
        "colab_type": "code",
        "colab": {}
      },
      "source": [
        ""
      ],
      "execution_count": null,
      "outputs": []
    },
    {
      "cell_type": "code",
      "metadata": {
        "id": "lLW5FDgvlRDV",
        "colab_type": "code",
        "colab": {
          "base_uri": "https://localhost:8080/",
          "height": 34
        },
        "outputId": "6ad88f6a-2c63-4d15-abec-36803de86c82"
      },
      "source": [
        "import csv\n",
        "\n",
        "open(\"/content/drive/My Drive/117.경기도_양주시_공공도서관 대출 정보(2019년 4_6월).csv\", \"r\", encoding='euc-kr')\n"
      ],
      "execution_count": null,
      "outputs": [
        {
          "output_type": "execute_result",
          "data": {
            "text/plain": [
              "<_io.TextIOWrapper name='/content/drive/My Drive/117.경기도_양주시_공공도서관 대출 정보(2019년 4_6월).csv' mode='r' encoding='euc-kr'>"
            ]
          },
          "metadata": {
            "tags": []
          },
          "execution_count": 11
        }
      ]
    }
  ]
}