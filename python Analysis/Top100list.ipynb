{
  "nbformat": 4,
  "nbformat_minor": 0,
  "metadata": {
    "colab": {
      "name": "이진영.ipynb",
      "provenance": [],
      "collapsed_sections": [],
      "machine_shape": "hm"
    },
    "kernelspec": {
      "name": "python3",
      "display_name": "Python 3"
    }
  },
  "cells": [
    {
      "cell_type": "markdown",
      "metadata": {
        "id": "JGL2JAq2pnbh",
        "colab_type": "text"
      },
      "source": [
        "hour_list 생성\n"
      ]
    },
    {
      "cell_type": "code",
      "metadata": {
        "id": "j4Py_K1il5li",
        "colab_type": "code",
        "colab": {
          "base_uri": "https://localhost:8080/",
          "height": 34
        },
        "outputId": "f09e8623-35ce-41ed-f947-debbbcbb95fd"
      },
      "source": [
        "from google.colab import drive\n",
        "drive.mount('/content/drive')"
      ],
      "execution_count": null,
      "outputs": [
        {
          "output_type": "stream",
          "text": [
            "Drive already mounted at /content/drive; to attempt to forcibly remount, call drive.mount(\"/content/drive\", force_remount=True).\n"
          ],
          "name": "stdout"
        }
      ]
    },
    {
      "cell_type": "code",
      "metadata": {
        "id": "qRQkXfA0wlly",
        "colab_type": "code",
        "colab": {}
      },
      "source": [
        "import pandas as pd #판다스 library import\n",
        "import requests\n",
        "import urllib.request\n",
        "from bs4 import BeautifulSoup\n",
        " \n",
        "url = \"https://music.bugs.co.kr/chart\"#크롤링 할 url, 벅스 100차트\n",
        "hour_list=[]#hour_list 생성\n",
        "\n",
        "# extract all hour \n",
        "html = requests.get(url)\n",
        "soup = BeautifulSoup(html.content,\"html.parser\")\n",
        "time = soup.find('ul',{'class':'list-layer-select center'}) #시간이 들어있는 ul태그와 클래스 명 검색\n",
        "\n",
        "for li in time.find_all('li'):#for문으로 <li> 태그 속 텍스트 추출\n",
        "    hours = li.find(class_='hyrend').text\n",
        "    hours = hours[:2]#분을 제외한 시간만 필요하므로 뒤에 지워주기\n",
        "    hour_list.insert(0,hours)#추출한 시간은 hour_list에 저장\n",
        "hour_list"
      ],
      "execution_count": null,
      "outputs": []
    },
    {
      "cell_type": "markdown",
      "metadata": {
        "id": "pjm0XwHydrX5",
        "colab_type": "text"
      },
      "source": [
        "페이지 소스 , top_100_list 선언"
      ]
    },
    {
      "cell_type": "code",
      "metadata": {
        "id": "_SbOpUEZ_Msa",
        "colab_type": "code",
        "colab": {}
      },
      "source": [
        "import urllib.request\n",
        "from bs4 import BeautifulSoup\n",
        "\n",
        "\n",
        "base_url = \"https://music.bugs.co.kr/chart/track/realtime/total?chartdate=20200506&charthour={h}\"\n",
        "\n",
        "top_100_list = {}#top_100_list생성"
      ],
      "execution_count": null,
      "outputs": []
    },
    {
      "cell_type": "code",
      "metadata": {
        "id": "uvK42HbgLuxR",
        "colab_type": "code",
        "colab": {}
      },
      "source": [
        "for hour in hour_list : \n",
        "\n",
        "  url = base_url.format(h = hour)#url의 {h}의 스트링을 초기화하고 hour로 변경\n",
        "  html = urllib.request.urlopen(url).read()\n",
        "  soup = BeautifulSoup(html, \"html.parser\")\n",
        "  table = soup.find('table',{'class':'list trackList byChart'}) #ranking, title, artist 정보가 들어있는 테이블을 검색\n",
        "\n",
        "  ranking_list, title_list, artist_list =  [], [], [] #ranking_list, title_list, artist_list 생성\n",
        "\n",
        "  for tr in table.tbody.find_all('tr'):#위에서 찾은 table의 <tbody> 안에 있는 <tr>태그 모두 검색\n",
        "    ranking = tr.find(class_=\"ranking\").strong.text#ranking = class : ranking, <strong> 안의  text \n",
        "    title = tr.find(class_=\"title\").a.text#title = class : title, <a> 안의 text\n",
        "    artist = tr.find(class_=\"artist\").a.text#artist = class : artist, <a> 안의 text\n",
        "#위에서 찾은 text들을 각 list에 붙이기\n",
        "    ranking_list.append(ranking)\n",
        "    title_list.append(title)\n",
        "    artist_list.append(artist)\n",
        "#DataFrame 생성, index = 0~99, columns = ranking, title, artist\n",
        "  df = pd.DataFrame(index = range(0,100), columns = ['ranking', 'title', 'artist'])\n",
        "  df.ranking = ranking_list\n",
        "  df.title = title_list\n",
        "  df.artist = artist_list\n",
        "#시간대별 top_100_list = Data 넣기\n",
        "  top_100_list[hour] = df"
      ],
      "execution_count": null,
      "outputs": []
    },
    {
      "cell_type": "code",
      "metadata": {
        "id": "Uyht4pglQO2J",
        "colab_type": "code",
        "colab": {}
      },
      "source": [
        "print(df)"
      ],
      "execution_count": null,
      "outputs": []
    },
    {
      "cell_type": "code",
      "metadata": {
        "id": "rwDuBQi8EqBR",
        "colab_type": "code",
        "colab": {}
      },
      "source": [
        "#시간대별 top_100_list 저장, \n",
        "for key in hour_list : \n",
        "    top_100_list[key].to_csv(\"top_100_list_{hour}.csv\".format(hour=key), index = False)"
      ],
      "execution_count": null,
      "outputs": []
    },
    {
      "cell_type": "markdown",
      "metadata": {
        "id": "Rc1IzoiDp2nD",
        "colab_type": "text"
      },
      "source": [
        "artist 빈도수 "
      ]
    },
    {
      "cell_type": "code",
      "metadata": {
        "id": "pmVUqgt90YhS",
        "colab_type": "code",
        "colab": {
          "base_uri": "https://localhost:8080/",
          "height": 54
        },
        "outputId": "a675bb8d-e4ff-47ab-8abb-3995174db2b9"
      },
      "source": [
        "def counter(input_list):\n",
        "  word_count = {}\n",
        "  for word in artist_list:\n",
        "    if word in word_count:\n",
        "      word_count[word] += 1\n",
        "    else:\n",
        "      word_count[word] = 1\n",
        "  return word_count\n",
        "word_count = counter(artist_list)\n",
        "\n",
        "word_count = sorted(word_count.items(), key=lambda x:x[1], reverse = True)#sorted함수로 word_count 정렬\n",
        "print(word_count)"
      ],
      "execution_count": null,
      "outputs": [
        {
          "output_type": "stream",
          "text": [
            "[('아이유(IU)', 5), ('NCT DREAM', 5), ('오마이걸(OH MY GIRL)', 4), ('폴킴(Paul Kim)', 4), ('태연 (TAEYEON)', 2), ('장범준', 2), ('(여자)아이들', 2), ('Dua Lipa(두아 리파)', 2), ('백예린', 2), ('Anne-Marie(앤 마리)', 2), ('방탄소년단', 2), ('노을', 2), ('마크툽(Maktub)', 2), ('임영웅', 2), ('HYNN(박혜원)', 2), ('Lauv(라우브)', 2), ('영탁', 2), ('조정석', 1), ('에이프릴(APRIL)', 1), ('청하', 1), ('Apink (에이핑크)', 1), ('휘인(Whee In)', 1), ('먼데이 키즈(Monday Kiz)', 1), ('조이 (JOY)', 1), ('ITZY (있지)', 1), ('어반자카파', 1), ('가호(Gaho)', 1), ('규현 (KYUHYUN)', 1), ('권진아', 1), ('성시경', 1), ('곽진언', 1), ('창모(CHANGMO)', 1), ('Tones And I', 1), ('지코', 1), ('Conan Gray', 1), ('벤', 1), ('하현우(국카스텐)', 1), ('IZ*ONE(아이즈원)', 1), ('길구봉구', 1), ('Red Velvet (레드벨벳)', 1), ('엠씨더맥스 (M.C the MAX)', 1), ('오반', 1), ('Sam Smith(샘 스미스)', 1), ('Maroon 5(마룬 파이브)', 1), ('둘째이모 김다비', 1), ('김필(Kim Feel)', 1), ('제이레빗(J Rabbit)', 1), ('NCT 127', 1), ('솔라 (마마무)', 1), ('Etham', 1), ('잔나비', 1), ('마마무(Mamamoo)', 1), ('신예영', 1), ('AKMU (악동뮤지션)', 1), ('The Weeknd(위켄드)', 1), ('Stormzy(스톰지)', 1), ('MC몽', 1), ('Arizona Zervas', 1), ('Ruel(루엘)', 1), ('Jeremy Zucker', 1), ('TWICE (트와이스)', 1), ('아스트로(ASTRO)', 1), ('진민호', 1), ('Billie Eilish(빌리 아일리시)', 1), ('New Hope Club(뉴 호프 클럽)', 1), ('Shawn Mendes(션 멘데스)', 1), ('WINNER', 1), ('pH-1', 1), ('Doja Cat(도자 캣)', 1), ('다비치', 1), ('개코', 1), ('쿨(COOL)', 1), ('펭수', 1)]\n"
          ],
          "name": "stdout"
        }
      ]
    },
    {
      "cell_type": "markdown",
      "metadata": {
        "id": "XrHCMcFfp7bb",
        "colab_type": "text"
      },
      "source": [
        "artist_list 워드 클라우드"
      ]
    },
    {
      "cell_type": "markdown",
      "metadata": {
        "id": "LibeGmbfD-MC",
        "colab_type": "text"
      },
      "source": [
        ">font 다운로드\n"
      ]
    },
    {
      "cell_type": "code",
      "metadata": {
        "id": "BzIRQi0O57Pu",
        "colab_type": "code",
        "colab": {
          "base_uri": "https://localhost:8080/",
          "height": 334
        },
        "outputId": "02e42467-d17b-4d74-9690-3b4c8b43712c"
      },
      "source": [
        "!apt-get update\n",
        "!apt-get install fonts-nanum\n",
        "# !apt-get install fontconfig\n",
        "# !fc-cache -fv\n",
        "# !cp /usr/share/fonts/truetype/nanum/Nanum* /usr/local/lib/python3.6/dist-packages/pytagcloud/fonts\n",
        "# !rm -rf /content/.cache/pytagcloud/*"
      ],
      "execution_count": null,
      "outputs": [
        {
          "output_type": "stream",
          "text": [
            "\r0% [Working]\r            \rIgn:1 https://developer.download.nvidia.com/compute/cuda/repos/ubuntu1804/x86_64  InRelease\n",
            "\r0% [Connecting to archive.ubuntu.com] [Connecting to security.ubuntu.com] [Wait\r                                                                               \rIgn:2 https://developer.download.nvidia.com/compute/machine-learning/repos/ubuntu1804/x86_64  InRelease\n",
            "\r0% [Connecting to archive.ubuntu.com (91.189.88.152)] [Connecting to security.u\r                                                                               \rHit:3 https://developer.download.nvidia.com/compute/cuda/repos/ubuntu1804/x86_64  Release\n",
            "\r0% [Connecting to archive.ubuntu.com (91.189.88.152)] [Connecting to security.u\r0% [Release.gpg gpgv 564 B] [Connecting to archive.ubuntu.com (91.189.88.152)] \r                                                                               \rHit:4 https://developer.download.nvidia.com/compute/machine-learning/repos/ubuntu1804/x86_64  Release\n",
            "\r0% [Release.gpg gpgv 564 B] [Connecting to archive.ubuntu.com (91.189.88.152)] \r                                                                               \rGet:5 https://cloud.r-project.org/bin/linux/ubuntu bionic-cran35/ InRelease [3,626 B]\n",
            "\r0% [Release.gpg gpgv 564 B] [Connecting to archive.ubuntu.com (91.189.88.152)] \r0% [Release.gpg gpgv 564 B] [Connecting to archive.ubuntu.com (91.189.88.152)] \r                                                                               \rHit:6 http://ppa.launchpad.net/graphics-drivers/ppa/ubuntu bionic InRelease\n",
            "Get:8 http://security.ubuntu.com/ubuntu bionic-security InRelease [88.7 kB]\n",
            "Hit:10 http://archive.ubuntu.com/ubuntu bionic InRelease\n",
            "Get:11 http://archive.ubuntu.com/ubuntu bionic-updates InRelease [88.7 kB]\n",
            "Get:12 http://ppa.launchpad.net/marutter/c2d4u3.5/ubuntu bionic InRelease [15.4 kB]\n",
            "Get:13 http://archive.ubuntu.com/ubuntu bionic-backports InRelease [74.6 kB]\n",
            "Fetched 271 kB in 2s (118 kB/s)\n",
            "Reading package lists... Done\n",
            "Reading package lists... Done\n",
            "Building dependency tree       \n",
            "Reading state information... Done\n",
            "fonts-nanum is already the newest version (20170925-1).\n",
            "0 upgraded, 0 newly installed, 0 to remove and 30 not upgraded.\n"
          ],
          "name": "stdout"
        }
      ]
    },
    {
      "cell_type": "markdown",
      "metadata": {
        "id": "G35PYYXhEDyM",
        "colab_type": "text"
      },
      "source": [
        ">word cloud"
      ]
    },
    {
      "cell_type": "code",
      "metadata": {
        "id": "lCBVKjJu5MrR",
        "colab_type": "code",
        "colab": {}
      },
      "source": [
        "from wordcloud import WordCloud\n",
        "import matplotlib.pyplot as plt\n",
        "\n",
        "    #wordCloud생성\n",
        "    #한글꺠지는 문제 해결하기위해 font_path 지정\n",
        "font_path='/usr/share/fonts/truetype/nanum/NanumBarunGothic.ttf'\n",
        "wc = WordCloud(font_path=font_path, \n",
        "               background_color='white', width=800, height=600)\n",
        "cloud = wc.generate_from_frequencies(dict(word_count))\n",
        "plt.figure(figsize=(10, 8))\n",
        "plt.axis('off')\n",
        "plt.imshow(cloud)"
      ],
      "execution_count": null,
      "outputs": []
    },
    {
      "cell_type": "code",
      "metadata": {
        "id": "nriFI-YEvxGI",
        "colab_type": "code",
        "colab": {
          "base_uri": "https://localhost:8080/",
          "height": 140
        },
        "outputId": "d973a43d-6d9b-4619-ab7b-8e513e8ac008"
      },
      "source": [
        "!cd /usr/share/fonts/truetype/nanum | ls "
      ],
      "execution_count": null,
      "outputs": [
        {
          "output_type": "stream",
          "text": [
            "drive\t\t     top_100_list_10.csv  top_100_list_17.csv\n",
            "sample_data\t     top_100_list_11.csv  top_100_list_18.csv\n",
            "top_100_list_00.csv  top_100_list_12.csv  top_100_list_19.csv\n",
            "top_100_list_01.csv  top_100_list_13.csv  top_100_list_20.csv\n",
            "top_100_list_07.csv  top_100_list_14.csv  top_100_list_21.csv\n",
            "top_100_list_08.csv  top_100_list_15.csv  top_100_list_22.csv\n",
            "top_100_list_09.csv  top_100_list_16.csv  top_100_list_23.csv\n"
          ],
          "name": "stdout"
        }
      ]
    },
    {
      "cell_type": "markdown",
      "metadata": {
        "id": "xjI5OafUqG4I",
        "colab_type": "text"
      },
      "source": [
        "image 크롤링"
      ]
    },
    {
      "cell_type": "markdown",
      "metadata": {
        "id": "wDsz2ng5EOg4",
        "colab_type": "text"
      },
      "source": [
        ">chormedriver, selenium 설치"
      ]
    },
    {
      "cell_type": "code",
      "metadata": {
        "id": "AkHYL682-zvP",
        "colab_type": "code",
        "colab": {
          "base_uri": "https://localhost:8080/",
          "height": 369
        },
        "outputId": "01a40a03-71cb-4b3e-8aee-5cf2bd4c4397"
      },
      "source": [
        "!pip install selenium\n",
        "!apt-get update\n",
        "!apt install chromium-chromedriver\n",
        "import sys\n",
        "sys.path.insert(0, '/usr/bin/chromedriver')\n",
        "from selenium import webdriver\n",
        "chrome_options = webdriver.ChromeOptions()#chromedriver를 구동하기 위해 옵션 추가\n",
        "chrome_options.add_argument('--headless')\n",
        "chrome_options.add_argument('--no-sandbox')\n",
        "chrome_options.add_argument('--disable-dev-shm-usage')"
      ],
      "execution_count": null,
      "outputs": [
        {
          "output_type": "stream",
          "text": [
            "Requirement already satisfied: selenium in /usr/local/lib/python3.6/dist-packages (3.141.0)\n",
            "Requirement already satisfied: urllib3 in /usr/local/lib/python3.6/dist-packages (from selenium) (1.24.3)\n",
            "Hit:1 https://cloud.r-project.org/bin/linux/ubuntu bionic-cran35/ InRelease\n",
            "Ign:2 https://developer.download.nvidia.com/compute/cuda/repos/ubuntu1804/x86_64  InRelease\n",
            "Ign:3 https://developer.download.nvidia.com/compute/machine-learning/repos/ubuntu1804/x86_64  InRelease\n",
            "Hit:4 https://developer.download.nvidia.com/compute/cuda/repos/ubuntu1804/x86_64  Release\n",
            "Hit:5 https://developer.download.nvidia.com/compute/machine-learning/repos/ubuntu1804/x86_64  Release\n",
            "Hit:6 http://ppa.launchpad.net/graphics-drivers/ppa/ubuntu bionic InRelease\n",
            "Hit:7 http://archive.ubuntu.com/ubuntu bionic InRelease\n",
            "Get:8 http://security.ubuntu.com/ubuntu bionic-security InRelease [88.7 kB]\n",
            "Hit:11 http://archive.ubuntu.com/ubuntu bionic-updates InRelease\n",
            "Get:12 http://archive.ubuntu.com/ubuntu bionic-backports InRelease [74.6 kB]\n",
            "Hit:13 http://ppa.launchpad.net/marutter/c2d4u3.5/ubuntu bionic InRelease\n",
            "Fetched 163 kB in 2s (90.8 kB/s)\n",
            "Reading package lists... Done\n",
            "Reading package lists... Done\n",
            "Building dependency tree       \n",
            "Reading state information... Done\n",
            "chromium-chromedriver is already the newest version (81.0.4044.122-0ubuntu0.18.04.1).\n",
            "0 upgraded, 0 newly installed, 0 to remove and 30 not upgraded.\n"
          ],
          "name": "stdout"
        }
      ]
    },
    {
      "cell_type": "code",
      "metadata": {
        "id": "28ZgXLNtbTBn",
        "colab_type": "code",
        "colab": {
          "base_uri": "https://localhost:8080/",
          "height": 52
        },
        "outputId": "4b7c5cf8-fdb9-4769-818f-f005e1b59f82"
      },
      "source": [
        "from urllib.request import urlretrieve#urlretrieve : url문서의 내용을 파일로 저장\n",
        "import os\n",
        "from selenium.webdriver.common.keys import Keys\n",
        "wd = webdriver.Chrome(\"chromedriver\", chrome_options = chrome_options)\n",
        "#from bs4 import BeautifulSoup#태그 이름을 사용해서 찾음\n",
        "bs = BeautifulSoup(html_doc, 'html.parser')\n",
        "imageDir = \"/content/drive/My Drive/Colab Notebooks/\"+searchItem"
      ],
      "execution_count": null,
      "outputs": [
        {
          "output_type": "stream",
          "text": [
            "/usr/local/lib/python3.6/dist-packages/ipykernel_launcher.py:4: DeprecationWarning: use options instead of chrome_options\n",
            "  after removing the cwd from sys.path.\n"
          ],
          "name": "stderr"
        }
      ]
    },
    {
      "cell_type": "markdown",
      "metadata": {
        "id": "4FEFSxnkEYfb",
        "colab_type": "text"
      },
      "source": [
        ">image 크롤링"
      ]
    },
    {
      "cell_type": "code",
      "metadata": {
        "id": "WnoCU9xi8DYP",
        "colab_type": "code",
        "colab": {}
      },
      "source": [
        "# 페이지 소스 요청\n",
        "url = \"https://music.bugs.co.kr/chart/track/realtime/total?chartdate=20200506&charthour=18\"\n",
        "req = requests.get(url)\n",
        "text = req.text\n",
        "\n",
        "soup = BeautifulSoup(text)\n",
        "tr_list = soup.findAll(class_=\"list trackList byChart\")[0].findAll(\"tr\")\n",
        "tr_list = tr_list[1:] # 테이블 헤더 제거\n",
        "\n",
        "for tr in tr_list : \n",
        "\n",
        "  # 이미지 다운로드 경로\n",
        "  img_source = tr.find(class_=\"thumbnail\").img.get(\"src\")\n",
        "\n",
        "  # 확장자 찾기(모든 이미지의 확장자가 jpg가 아닐 수도 있으므로)\n",
        "  temp = img_source[: img_source.find(\"?\")][::-1]\n",
        "  ext = temp[: temp.find(\".\")][::-1]\n",
        "\n",
        "  # 이미지 파일명 (노래 제목)\n",
        "  img_fname = tr.find(class_=\"title\").a.text\n",
        "\n",
        "  urlretrieve(img_source, os.path.join(imageDir, img_fname + \".\" + ext))"
      ],
      "execution_count": null,
      "outputs": []
    }
  ]
}
