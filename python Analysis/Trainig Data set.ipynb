{
  "nbformat": 4,
  "nbformat_minor": 0,
  "metadata": {
    "colab": {
      "name": "Untitled8.ipynb",
      "provenance": [],
      "collapsed_sections": []
    },
    "kernelspec": {
      "name": "python3",
      "display_name": "Python 3"
    }
  },
  "cells": [
    {
      "cell_type": "code",
      "metadata": {
        "id": "ZgY9kL8Sk89x",
        "colab_type": "code",
        "colab": {}
      },
      "source": [
        "import numpy as np\n",
        "import matplotlib.pyplot as plt\n",
        "import graphviz\n",
        "import pandas as pd \n",
        "from bs4 import BeautifulSoup\n",
        "from sklearn.datasets import load_iris\n",
        "from sklearn.preprocessing import StandardScaler\n",
        "from sklearn.model_selection import train_test_split\n",
        "from sklearn import tree, neighbors\n",
        "from sklearn.metrics import confusion_matrix, classification_report, accuracy_score"
      ],
      "execution_count": null,
      "outputs": []
    },
    {
      "cell_type": "code",
      "metadata": {
        "id": "9nJzTrwUlBG7",
        "colab_type": "code",
        "colab": {}
      },
      "source": [
        "from google.colab import drive\n",
        "drive.mount('/content/drive')"
      ],
      "execution_count": null,
      "outputs": []
    },
    {
      "cell_type": "code",
      "metadata": {
        "id": "7yHbd_74lBPP",
        "colab_type": "code",
        "colab": {}
      },
      "source": [
        "#p254 데이터 셋 구조 탐색\n",
        "iris = load_iris()\n",
        "print(iris)\n",
        "iris_dataset = load_iris()"
      ],
      "execution_count": null,
      "outputs": []
    },
    {
      "cell_type": "code",
      "metadata": {
        "id": "zyUBSXkxSIm2",
        "colab_type": "code",
        "colab": {
          "base_uri": "https://localhost:8080/",
          "height": 402
        },
        "outputId": "9a961aef-ad5f-4e16-d857-7de23818c148"
      },
      "source": [
        "data = load_iris()\n",
        "df = pd.read_csv('https://archive.ics.uci.edu/ml/''machine-learning-databases/iris/iris.data',header=None)\n",
        "#df = pd.DataFrame(data.data, columns=data.feature_names)\n",
        "df"
      ],
      "execution_count": null,
      "outputs": [
        {
          "output_type": "execute_result",
          "data": {
            "text/html": [
              "<div>\n",
              "<style scoped>\n",
              "    .dataframe tbody tr th:only-of-type {\n",
              "        vertical-align: middle;\n",
              "    }\n",
              "\n",
              "    .dataframe tbody tr th {\n",
              "        vertical-align: top;\n",
              "    }\n",
              "\n",
              "    .dataframe thead th {\n",
              "        text-align: right;\n",
              "    }\n",
              "</style>\n",
              "<table border=\"1\" class=\"dataframe\">\n",
              "  <thead>\n",
              "    <tr style=\"text-align: right;\">\n",
              "      <th></th>\n",
              "      <th>0</th>\n",
              "      <th>1</th>\n",
              "      <th>2</th>\n",
              "      <th>3</th>\n",
              "      <th>4</th>\n",
              "    </tr>\n",
              "  </thead>\n",
              "  <tbody>\n",
              "    <tr>\n",
              "      <th>0</th>\n",
              "      <td>5.1</td>\n",
              "      <td>3.5</td>\n",
              "      <td>1.4</td>\n",
              "      <td>0.2</td>\n",
              "      <td>Iris-setosa</td>\n",
              "    </tr>\n",
              "    <tr>\n",
              "      <th>1</th>\n",
              "      <td>4.9</td>\n",
              "      <td>3.0</td>\n",
              "      <td>1.4</td>\n",
              "      <td>0.2</td>\n",
              "      <td>Iris-setosa</td>\n",
              "    </tr>\n",
              "    <tr>\n",
              "      <th>2</th>\n",
              "      <td>4.7</td>\n",
              "      <td>3.2</td>\n",
              "      <td>1.3</td>\n",
              "      <td>0.2</td>\n",
              "      <td>Iris-setosa</td>\n",
              "    </tr>\n",
              "    <tr>\n",
              "      <th>3</th>\n",
              "      <td>4.6</td>\n",
              "      <td>3.1</td>\n",
              "      <td>1.5</td>\n",
              "      <td>0.2</td>\n",
              "      <td>Iris-setosa</td>\n",
              "    </tr>\n",
              "    <tr>\n",
              "      <th>4</th>\n",
              "      <td>5.0</td>\n",
              "      <td>3.6</td>\n",
              "      <td>1.4</td>\n",
              "      <td>0.2</td>\n",
              "      <td>Iris-setosa</td>\n",
              "    </tr>\n",
              "    <tr>\n",
              "      <th>...</th>\n",
              "      <td>...</td>\n",
              "      <td>...</td>\n",
              "      <td>...</td>\n",
              "      <td>...</td>\n",
              "      <td>...</td>\n",
              "    </tr>\n",
              "    <tr>\n",
              "      <th>145</th>\n",
              "      <td>6.7</td>\n",
              "      <td>3.0</td>\n",
              "      <td>5.2</td>\n",
              "      <td>2.3</td>\n",
              "      <td>Iris-virginica</td>\n",
              "    </tr>\n",
              "    <tr>\n",
              "      <th>146</th>\n",
              "      <td>6.3</td>\n",
              "      <td>2.5</td>\n",
              "      <td>5.0</td>\n",
              "      <td>1.9</td>\n",
              "      <td>Iris-virginica</td>\n",
              "    </tr>\n",
              "    <tr>\n",
              "      <th>147</th>\n",
              "      <td>6.5</td>\n",
              "      <td>3.0</td>\n",
              "      <td>5.2</td>\n",
              "      <td>2.0</td>\n",
              "      <td>Iris-virginica</td>\n",
              "    </tr>\n",
              "    <tr>\n",
              "      <th>148</th>\n",
              "      <td>6.2</td>\n",
              "      <td>3.4</td>\n",
              "      <td>5.4</td>\n",
              "      <td>2.3</td>\n",
              "      <td>Iris-virginica</td>\n",
              "    </tr>\n",
              "    <tr>\n",
              "      <th>149</th>\n",
              "      <td>5.9</td>\n",
              "      <td>3.0</td>\n",
              "      <td>5.1</td>\n",
              "      <td>1.8</td>\n",
              "      <td>Iris-virginica</td>\n",
              "    </tr>\n",
              "  </tbody>\n",
              "</table>\n",
              "<p>150 rows × 5 columns</p>\n",
              "</div>"
            ],
            "text/plain": [
              "       0    1    2    3               4\n",
              "0    5.1  3.5  1.4  0.2     Iris-setosa\n",
              "1    4.9  3.0  1.4  0.2     Iris-setosa\n",
              "2    4.7  3.2  1.3  0.2     Iris-setosa\n",
              "3    4.6  3.1  1.5  0.2     Iris-setosa\n",
              "4    5.0  3.6  1.4  0.2     Iris-setosa\n",
              "..   ...  ...  ...  ...             ...\n",
              "145  6.7  3.0  5.2  2.3  Iris-virginica\n",
              "146  6.3  2.5  5.0  1.9  Iris-virginica\n",
              "147  6.5  3.0  5.2  2.0  Iris-virginica\n",
              "148  6.2  3.4  5.4  2.3  Iris-virginica\n",
              "149  5.9  3.0  5.1  1.8  Iris-virginica\n",
              "\n",
              "[150 rows x 5 columns]"
            ]
          },
          "metadata": {
            "tags": []
          },
          "execution_count": 8
        }
      ]
    },
    {
      "cell_type": "code",
      "metadata": {
        "id": "wq-c2DMulBXC",
        "colab_type": "code",
        "colab": {}
      },
      "source": [
        "print(iris.feature_names)  #특징들을 출력\n",
        "print(iris.target_names)   #학습 라벨에 해당하는 target을 출력\n",
        "print(iris.data[0])        #첫 번째 데이터에 저장된 feature값 출력\n",
        "print(iris.target[0])"
      ],
      "execution_count": null,
      "outputs": []
    },
    {
      "cell_type": "code",
      "metadata": {
        "id": "PVMy7gR_lJUn",
        "colab_type": "code",
        "colab": {}
      },
      "source": [
        "dir(iris)"
      ],
      "execution_count": null,
      "outputs": []
    },
    {
      "cell_type": "code",
      "metadata": {
        "id": "ReoW6R_elJ0o",
        "colab_type": "code",
        "colab": {}
      },
      "source": [
        "# display(iris)\n",
        "print(type(iris.data))\n",
        "print(iris.data.shape)\n",
        "print(iris.data.dtype)\n",
        "print(iris.data.ndim)"
      ],
      "execution_count": null,
      "outputs": []
    },
    {
      "cell_type": "code",
      "metadata": {
        "id": "OOXauq8jlMOm",
        "colab_type": "code",
        "colab": {}
      },
      "source": [
        "#p255 iris.data에 저장된 내용 출력\n",
        "for i in range(3):\n",
        "  print(\"Exemple %d : label %s, featuren %s\" % (i,iris.target[i],iris.data[i]))"
      ],
      "execution_count": null,
      "outputs": []
    },
    {
      "cell_type": "code",
      "metadata": {
        "id": "0Lqu1UAulMXt",
        "colab_type": "code",
        "colab": {}
      },
      "source": [
        "#p259 꽃의 분포의 시각화 : 꽃받침의 길이와 폭의 상관관계\n",
        "sepal = iris.data[:,0:2]\n",
        "kind = iris.target\n",
        "plt.xlabel('Sepal Length')\n",
        "plt.ylabel('Sepal Width')\n",
        "plt.plot(sepal[kind==0][:,0],sepal[kind==0][:,1],\"ro\",label = 'Setosa')\n",
        "plt.plot(sepal[kind==1][:,0],sepal[kind==1][:,1],\"bo\",label = 'Versicolor')\n",
        "plt.plot(sepal[kind==2][:,0],sepal[kind==2][:,1],\"yo\",label = 'Viurginica')\n",
        "plt.legend()\n",
        "plt.show()"
      ],
      "execution_count": null,
      "outputs": []
    },
    {
      "cell_type": "code",
      "metadata": {
        "id": "9hbPmP8JlY1s",
        "colab_type": "code",
        "colab": {}
      },
      "source": [
        "#p259 꽃의 분포의 시각화 : 꽃받침의 길이와 폭\n",
        "sepal = iris.data[:,2:4]\n",
        "kind = iris.target\n",
        "plt.xlabel('Sepal Length')\n",
        "plt.ylabel('Sepal Width')\n",
        "plt.plot(sepal[kind==0][:,0],sepal[kind==0][:,1],\"ro\",label = 'Setosa')\n",
        "plt.plot(sepal[kind==1][:,0],sepal[kind==1][:,1],\"bo\",label = 'Versicolor')\n",
        "plt.plot(sepal[kind==2][:,0],sepal[kind==2][:,1],\"yo\",label = 'Viurginica')\n",
        "plt.legend()\n",
        "plt.show()"
      ],
      "execution_count": null,
      "outputs": []
    },
    {
      "cell_type": "markdown",
      "metadata": {
        "id": "6Q2xJUtUm2gx",
        "colab_type": "text"
      },
      "source": [
        "** 2.데이터 정규화**\n",
        "\n",
        "데이터를 정규화해 모든 특징들을 같은 스케일상에 놓는 것이다."
      ]
    },
    {
      "cell_type": "code",
      "metadata": {
        "id": "7fQdlr1Fmw-M",
        "colab_type": "code",
        "colab": {}
      },
      "source": [
        "sc_x = StandardScaler()\n",
        "x = iris.data\n",
        "print(x[:10])\n",
        "x = sc_x.fit_transform(x)\n",
        "print(x[:10])"
      ],
      "execution_count": null,
      "outputs": []
    },
    {
      "cell_type": "markdown",
      "metadata": {
        "id": "FljDVVrhnAKw",
        "colab_type": "text"
      },
      "source": [
        "3.Split dataset\n",
        "\n",
        "Training and Test datasets"
      ]
    },
    {
      "cell_type": "code",
      "metadata": {
        "id": "JswJqqT2mxQ3",
        "colab_type": "code",
        "colab": {}
      },
      "source": [
        "#p264\n",
        "x = x\n",
        "y = iris.target\n",
        "#x_train, x_test, y_train, y_tset = train_test_split(x,y,test_size=2)\n",
        "#shuffle and split training and test sets\n",
        "x_train, x_test, y_train, y_test = train_test_split(x, y, random_state = 1, test_size=.2)\n",
        "\n",
        "print(x_train[:3])\n",
        "print(y_train[:3])\n",
        "print(x_test[:3])\n",
        "print(y_test[:3])\n",
        "print(len(x_train))\n",
        "print(len(x_test))"
      ],
      "execution_count": null,
      "outputs": []
    },
    {
      "cell_type": "code",
      "metadata": {
        "id": "eXwpdxAYnGDb",
        "colab_type": "code",
        "colab": {}
      },
      "source": [
        "#결정트리 생성!\n",
        "clf_1 = tree.DecisionTreeClassifier(ccp_alpha=0.1,random_state=33, criterion='gini',max_depth=3,min_samples_leaf=5)\n",
        "print(clf_1)\n",
        "clf_1.fit(x_train,y_train)\n",
        "predictions = clf_1.predict(x_test)\n",
        "print(\"예측 :\\n\",predictions)\n",
        "print(\"정답(y_test) : \\n\",y_test)"
      ],
      "execution_count": null,
      "outputs": []
    },
    {
      "cell_type": "code",
      "metadata": {
        "id": "aWldb1xFnGTJ",
        "colab_type": "code",
        "colab": {}
      },
      "source": [
        "#260 결정트리의 도식화\n",
        "dot_data = tree.export_graphviz(clf_1,out_file=None,feature_names=iris.feature_names,\n",
        "                                class_names=iris.target_names,filled=True, rounded = True,special_characters=True)\n",
        "graph = graphviz.Source(dot_data)\n",
        "graph.render(\"iris\",view=True)\n",
        "display(graph)"
      ],
      "execution_count": null,
      "outputs": []
    },
    {
      "cell_type": "code",
      "metadata": {
        "id": "2Zp42xKBnGMF",
        "colab_type": "code",
        "colab": {}
      },
      "source": [
        "#265\n",
        "from sklearn.metrics import accuracy_score\n",
        "display(y_test)\n",
        "display(len(y_test))\n",
        "display(predictions)\n",
        "display(len(predictions))\n",
        "print(round(accuracy_score(y_test,predictions),2))"
      ],
      "execution_count": null,
      "outputs": []
    },
    {
      "cell_type": "code",
      "metadata": {
        "id": "U3h5PjOsnLgZ",
        "colab_type": "code",
        "colab": {}
      },
      "source": [
        "cm = confusion_matrix(y_test,predictions)\n",
        "display(cm)\n",
        "print(classification_report(y_test,predictions,target_names=['setosa','versicolor','virginica']))"
      ],
      "execution_count": null,
      "outputs": []
    },
    {
      "cell_type": "code",
      "metadata": {
        "id": "uDZskLidnLof",
        "colab_type": "code",
        "colab": {}
      },
      "source": [
        "print(clf_1.predict([[2.8,2.5,3.5,2.4]]))"
      ],
      "execution_count": null,
      "outputs": []
    },
    {
      "cell_type": "markdown",
      "metadata": {
        "id": "EBF-SOK5nSJz",
        "colab_type": "text"
      },
      "source": [
        "knn"
      ]
    },
    {
      "cell_type": "code",
      "metadata": {
        "id": "z9OyzveenR4g",
        "colab_type": "code",
        "colab": {}
      },
      "source": [
        "#k-nn 기계학습 모델 training\n",
        "# x=iris.data\n",
        "# y=iris.target\n",
        "# x_train, x_test, y_train, y_test = train_test_split(x, y, test_size=.2)\n",
        "\n",
        "\n",
        "#k값 선택\n",
        "import math\n",
        "best_k = math.sqrt(len(y_test))\n",
        "print(best_k)\n",
        "\n",
        "clf = neighbors.KNeighborsClassifier(n_neighbors=3,p=3)  \n",
        "display(clf)\n",
        "clf.fit(x_train,y_train)\n",
        "predictions = clf.predict(x_test)\n",
        "print(\"예측 :\\n\",predictions)\n",
        "print(\"정답(y_test) : \\n\",y_test)"
      ],
      "execution_count": null,
      "outputs": []
    },
    {
      "cell_type": "code",
      "metadata": {
        "id": "Z-j6aoD_nbf-",
        "colab_type": "code",
        "colab": {
          "base_uri": "https://localhost:8080/",
          "height": 70
        },
        "outputId": "6b15f9ba-99b6-4f00-b441-4d416cf94d56"
      },
      "source": [
        "#정확도 분석\n",
        "#p268\n",
        "print(round(accuracy_score(y_test,predictions),2))\n",
        "print(clf.predict([[2.8,2.5,3.5,2.4]]))\n",
        "print(clf.predict_proba([[2.8,2.5,3.5,2.4]]))"
      ],
      "execution_count": null,
      "outputs": [
        {
          "output_type": "stream",
          "text": [
            "1.0\n",
            "[2]\n",
            "[[0. 0. 1.]]\n"
          ],
          "name": "stdout"
        }
      ]
    },
    {
      "cell_type": "code",
      "metadata": {
        "id": "upsP__vLnbrE",
        "colab_type": "code",
        "colab": {}
      },
      "source": [
        "cm = confusion_matrix(y_test,predictions)\n",
        "display(cm)\n",
        "print(classification_report(y_test,predictions,target_names=['setosa','versicolor','virginica']))"
      ],
      "execution_count": null,
      "outputs": []
    },
    {
      "cell_type": "code",
      "metadata": {
        "id": "kQ-tfks-nf3N",
        "colab_type": "code",
        "colab": {}
      },
      "source": [
        "#p271\n",
        "def euc(p1, p2):\n",
        "  return np.sqrt(np.sum(np.power(p2-p1,2)))\n",
        "\n",
        "class eucKNN():\n",
        "  def closest(self,row):\n",
        "    best_dist = euc(row,self.x_train[0])\n",
        "    best_index = 0\n",
        "    for i in range (1, len(self.x_train)):\n",
        "      dist = euc(row, self.x_train[i])\n",
        "      if dist < best_dist:\n",
        "        best_dist = dist\n",
        "        best_index = i\n",
        "    return self.y_train[best_index]\n",
        "\n",
        "  def fit(self, x_train, y_train):\n",
        "    self.x_train = x_train\n",
        "    self.y_train = y_train\n",
        "\n",
        "  def predict(self,x_test):\n",
        "    predictions = []\n",
        "    for row in x_test:\n",
        "      label = self.closest(row)\n",
        "      predictions.append(label)\n",
        "    return predictions\n",
        "\n",
        "clf_3 = eucKNN()\n",
        "clf_3.fit(x_train,y_train)\n",
        "predictions = clf_3.predict(x_test)\n",
        "print(\"예측 :\\n\",predictions)\n",
        "print(\"정답(y_test) : \\n\",y_test)"
      ],
      "execution_count": null,
      "outputs": []
    },
    {
      "cell_type": "code",
      "metadata": {
        "id": "widIBhNjnktC",
        "colab_type": "code",
        "colab": {}
      },
      "source": [
        "cm = confusion_matrix(y_test,predictions)\n",
        "display(cm)\n",
        "print(round(accuracy_score(y_test,predictions),2))\n",
        "cm = confusion_matrix(y_test,predictions)\n",
        "display(cm)\n",
        "print(classification_report(y_test,predictions,target_names=['setosa','versicolor','virginica']))\n",
        "print(clf_3.predict([[3.8,2.5,3.5,2.4]]))"
      ],
      "execution_count": null,
      "outputs": []
    },
    {
      "cell_type": "code",
      "metadata": {
        "id": "4xq5Z0Y9JfHf",
        "colab_type": "code",
        "colab": {}
      },
      "source": [
        "from sklearn.model_selection import train_test_split\n",
        "X_train, X_test, y_train, y_test = train_test_split(\n",
        "iris_dataset['data'], iris_dataset['target'], random_state=0)"
      ],
      "execution_count": null,
      "outputs": []
    },
    {
      "cell_type": "code",
      "metadata": {
        "id": "lsFMEBHNGRtH",
        "colab_type": "code",
        "colab": {}
      },
      "source": [
        "from sklearn.datasets import load_iris\n",
        "import pandas as pd\n",
        "\n",
        "data = load_iris()\n",
        "df = pd.DataFrame(data.data, columns=data.feature_names)\n",
        "df"
      ],
      "execution_count": null,
      "outputs": []
    },
    {
      "cell_type": "markdown",
      "metadata": {
        "id": "RlfdpRwyKJrb",
        "colab_type": "text"
      },
      "source": [
        "이웃의 개수\n"
      ]
    },
    {
      "cell_type": "code",
      "metadata": {
        "id": "vQlROFFXI0lN",
        "colab_type": "code",
        "colab": {}
      },
      "source": [
        "from sklearn.neighbors import KNeighborsClassifier\n",
        "knn = KNeighborsClassifier(n_neighbors=1)"
      ],
      "execution_count": null,
      "outputs": []
    },
    {
      "cell_type": "markdown",
      "metadata": {
        "id": "ws79tqedKL4t",
        "colab_type": "text"
      },
      "source": [
        "훈련데이터 셋으로부터 모델 생성\n"
      ]
    },
    {
      "cell_type": "code",
      "metadata": {
        "id": "UVyT-RcVI2sI",
        "colab_type": "code",
        "colab": {}
      },
      "source": [
        "knn.fit(X_train, y_train)#fit 메서드 사용"
      ],
      "execution_count": null,
      "outputs": []
    },
    {
      "cell_type": "code",
      "metadata": {
        "id": "8E0frn3OI2yh",
        "colab_type": "code",
        "colab": {}
      },
      "source": [
        "X_new = np.array([[5, 2.9, 1, 0.2]])\n",
        "print(\"X_new.shape: {}\".format(X_new.shape))"
      ],
      "execution_count": null,
      "outputs": []
    },
    {
      "cell_type": "code",
      "metadata": {
        "id": "A4CVNs1fI24D",
        "colab_type": "code",
        "colab": {}
      },
      "source": [
        "prediction = knn.predict(X_new)\n",
        "print(\"예측: {}\".format(prediction))\n",
        "print(\"예측한 타깃의 이름: {}\".format(\n",
        "iris_dataset['target_names'][prediction]))"
      ],
      "execution_count": null,
      "outputs": []
    },
    {
      "cell_type": "markdown",
      "metadata": {
        "id": "4dGskbwEKhvb",
        "colab_type": "text"
      },
      "source": [
        "모델 평가"
      ]
    },
    {
      "cell_type": "code",
      "metadata": {
        "id": "jPXq3Bc3KhYu",
        "colab_type": "code",
        "colab": {}
      },
      "source": [
        "y_pred = knn.predict(X_test)\n",
        "print(\"테스트 세트에 대한 예측값:\\n {}\".format(y_pred))"
      ],
      "execution_count": null,
      "outputs": []
    },
    {
      "cell_type": "code",
      "metadata": {
        "id": "FnkY9KFQK_wI",
        "colab_type": "code",
        "colab": {
          "base_uri": "https://localhost:8080/",
          "height": 34
        },
        "outputId": "18b737e9-1351-4084-8447-faf177ba49ae"
      },
      "source": [
        "print(\"테스트 세트의 정확도: {:.2f}\".format(np.mean(y_pred == y_test)))"
      ],
      "execution_count": null,
      "outputs": [
        {
          "output_type": "stream",
          "text": [
            "테스트 세트의 정확도: 0.97\n"
          ],
          "name": "stdout"
        }
      ]
    }
  ]
}
