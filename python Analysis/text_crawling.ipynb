{
  "nbformat": 4,
  "nbformat_minor": 0,
  "metadata": {
    "colab": {
      "name": "text_crawling.ipynb",
      "provenance": [],
      "collapsed_sections": []
    },
    "kernelspec": {
      "name": "python3",
      "display_name": "Python 3"
    }
  },
  "cells": [
    {
      "cell_type": "code",
      "metadata": {
        "id": "4IlUtp2zY8oh",
        "colab_type": "code",
        "colab": {}
      },
      "source": [
        "\n",
        "!pip install selenium\n",
        "!apt-get update\n",
        "!apt install chromium-chromedriver\n",
        "#!cp /usr/lib/chromium-browser/chromedriver /usr/bin"
      ],
      "execution_count": null,
      "outputs": []
    },
    {
      "cell_type": "code",
      "metadata": {
        "id": "LpyapjYXY_2Y",
        "colab_type": "code",
        "colab": {}
      },
      "source": [
        "# 환경 변수 추가 \n",
        "import sys\n",
        "sys.path.insert(0, '/usr/bin/chromedriver')"
      ],
      "execution_count": null,
      "outputs": []
    },
    {
      "cell_type": "code",
      "metadata": {
        "id": "sqJ3APnp64ig",
        "colab_type": "code",
        "colab": {}
      },
      "source": [
        "from selenium import webdriver\n",
        "chrome_options = webdriver.ChromeOptions()#chromedriver를 구동하기 위해 옵션 추가\n",
        "chrome_options.add_argument('--headless')\n",
        "chrome_options.add_argument('--no-sandbox')\n",
        "chrome_options.add_argument('--disable-dev-shm-usage')"
      ],
      "execution_count": null,
      "outputs": []
    },
    {
      "cell_type": "code",
      "metadata": {
        "id": "j3-QYeqYd-AC",
        "colab_type": "code",
        "colab": {}
      },
      "source": [
        "url = \"https://search.shopping.naver.com/search/category.nhn?cat_id=50000167\""
      ],
      "execution_count": null,
      "outputs": []
    },
    {
      "cell_type": "code",
      "metadata": {
        "id": "9UJUP2iQeFM4",
        "colab_type": "code",
        "colab": {
          "base_uri": "https://localhost:8080/",
          "height": 52
        },
        "outputId": "09debcea-cbe4-4f92-b764-8ad3597c57ad"
      },
      "source": [
        "from bs4 import BeautifulSoup\n",
        "wd = webdriver.Chrome(\"chromedriver\", chrome_options = chrome_options)#구동시키는 명령문\n",
        "wd.get(url)\n",
        "html_doc = wd.page_source\n",
        "bs = BeautifulSoup(html_doc, 'html.parser')"
      ],
      "execution_count": null,
      "outputs": [
        {
          "output_type": "stream",
          "text": [
            "/usr/local/lib/python3.6/dist-packages/ipykernel_launcher.py:2: DeprecationWarning: use options instead of chrome_options\n",
            "  \n"
          ],
          "name": "stderr"
        }
      ]
    },
    {
      "cell_type": "code",
      "metadata": {
        "id": "qc6xxdxme3Tl",
        "colab_type": "code",
        "colab": {}
      },
      "source": [
        "from selenium.webdriver.common.keys import Keys\n",
        "import random, time #웹페이지에 있는 이미지를 랜덤으로 시간 간격을 주고 수집\n",
        "body = wd.find_element_by_tag_name(\"body\")\n",
        "for i in range(5):\n",
        "  body.send_keys(Keys.PAGE_DOWN)#페이지 스크롤링\n",
        "  time.sleep(random.random())#스크롤링 다운하는 대기시간"
      ],
      "execution_count": null,
      "outputs": []
    },
    {
      "cell_type": "code",
      "metadata": {
        "id": "PNJTDEvDf7Q0",
        "colab_type": "code",
        "colab": {
          "base_uri": "https://localhost:8080/",
          "height": 809
        },
        "outputId": "dfedab41-6b0c-44c3-e5e1-7c94efaf4e8a"
      },
      "source": [
        "import time\n",
        "time.sleep(2)#대기시간\n",
        "tag_names = wd.find_element_by_css_selector(\".sort_content\").find_elements_by_tag_name(\"ul\")\n",
        "#print(len(tag_names))\n",
        "\n",
        "for index,tag in enumerate(tag_names):\n",
        "  print((index +1,[tag.text.split('\\n')[0],tag.text.split('\\n')[1].split('|')[0]]))"
      ],
      "execution_count": null,
      "outputs": [
        {
          "output_type": "stream",
          "text": [
            "(1, ['위생복 상의 보통두께 HACCP 식품공장위생복', '광고'])\n",
            "(2, ['네이버페이 포인트 480원', '배송비 2,500원'])\n",
            "(3, ['네이버페이 포인트 405원', '배송비 2,500원'])\n",
            "(4, ['네이버페이 포인트 540원', '배송비 2,500원'])\n",
            "(5, ['네이버페이 포인트 1,950원', '배송비 무료'])\n",
            "(6, ['옥션', '최저가22,170'])\n",
            "(7, ['11번가', '최저가63,210'])\n",
            "(8, ['네이버페이', '오조이'])\n",
            "(9, ['네이버페이', '더현대닷컴'])\n",
            "(10, ['G마켓', '최저가80,780'])\n",
            "(11, ['G마켓', '최저가38,830'])\n",
            "(12, ['네이버페이 포인트 266원', '배송비 무료 오늘출발'])\n",
            "(13, ['네이버페이 1%적립', '배송비 무료'])\n",
            "(14, ['11번가', '최저가38,360'])\n",
            "(15, ['11번가', '최저가90,360'])\n",
            "(16, ['11번가', '최저가64,810'])\n",
            "(17, ['G마켓', '최저가73,290'])\n",
            "(18, ['네이버페이', '오조이'])\n",
            "(19, ['네이버페이 포인트 321원', '배송비 무료'])\n",
            "(20, ['네이버페이', '어반글로우'])\n",
            "(21, ['네이버페이', '더보느'])\n",
            "(22, ['옥션', '최저가33,150'])\n",
            "(23, ['네이버페이', '오파라요'])\n",
            "(24, ['네이버페이 포인트 99원', '배송비 2,500원'])\n",
            "(25, ['네이버페이 포인트 138원', '배송비 무료 오늘출발'])\n",
            "(26, ['네이버페이', '오조이'])\n",
            "(27, ['네이버페이 포인트 1,150원', '배송비 무료'])\n",
            "(28, ['G마켓', '최저가62,750'])\n",
            "(29, ['네이버페이', '더현대닷컴'])\n",
            "(30, ['옥션', '최저가26,490'])\n",
            "(31, ['11번가', '최저가17,460'])\n",
            "(32, ['11번가', '최저가73,310'])\n",
            "(33, ['롯데ON', '최저가5,540'])\n",
            "(34, ['롯데ON', '최저가44,960'])\n",
            "(35, ['옥션', '최저가19,840'])\n",
            "(36, ['네이버페이 포인트 499원', '배송비 10,000원'])\n",
            "(37, ['네이버페이', '현대Hmall'])\n",
            "(38, ['G마켓', '최저가45,440'])\n",
            "(39, ['네이버페이', '인핑'])\n",
            "(40, ['SSG닷컴', '최저가45,209'])\n",
            "(41, ['네이버페이 포인트 439원', '배송비 무료 오늘출발'])\n",
            "(42, ['네이버페이', '더보느'])\n",
            "(43, ['11번가', '최저가22,980'])\n",
            "(44, ['네이버페이', '롯데 기흥 써스데이아일랜드'])\n",
            "(45, ['G마켓', '최저가66,120'])\n"
          ],
          "name": "stdout"
        }
      ]
    },
    {
      "cell_type": "code",
      "metadata": {
        "id": "bpWQtAnVXBK7",
        "colab_type": "code",
        "colab": {
          "base_uri": "https://localhost:8080/",
          "height": 134
        },
        "outputId": "7fbdb933-c09c-4ffd-87f8-c5e71e678915"
      },
      "source": [
        "import requests\n",
        "import re\n",
        "from bs4 import BeautifulSoup\n",
        "\n",
        "url=\"https://search.shopping.naver.com/search/category.nhn?cat_id=50000167\"\n",
        "\n",
        "html = requests.get(url)\n",
        "\n",
        "bs_html= BeautifulSoup(urlopen(html.content,\"html.parser\")\n",
        "\n",
        "shopping_list= bs_html.find_all(\"a\",{\"class\":\"tit\":})\n",
        "\n",
        "for n in shopping_list:\n",
        "  shopping = re.find_all('href=\"(.+?)\">(.+?)</a>',str(n))[0]\n",
        "  title = shppping[1]\n",
        "  link = shopping[0].replace(\"amp;\",\"\")\n",
        "  print(title)\n",
        "  print(link)\n",
        "\n",
        "\n",
        "print(soup.find_all(\"a\"))"
      ],
      "execution_count": null,
      "outputs": [
        {
          "output_type": "error",
          "ename": "SyntaxError",
          "evalue": "ignored",
          "traceback": [
            "\u001b[0;36m  File \u001b[0;32m\"<ipython-input-11-a96b417b0943>\"\u001b[0;36m, line \u001b[0;32m11\u001b[0m\n\u001b[0;31m    shopping_list = bs_html.find_all(\"a\",{\"class\":\"tit\":})\u001b[0m\n\u001b[0m                ^\u001b[0m\n\u001b[0;31mSyntaxError\u001b[0m\u001b[0;31m:\u001b[0m invalid syntax\n"
          ]
        }
      ]
    },
    {
      "cell_type": "code",
      "metadata": {
        "id": "g43Z4Bs_NePS",
        "colab_type": "code",
        "colab": {}
      },
      "source": [
        "import time\n",
        "url=\"https://search.shopping.naver.com/search/category.nhn?cat_id=50000167\"\n",
        "wd.get(url)\n",
        "time.sleep(2)#대기시간\n",
        "tag_names = wd.find_element_by_css_selector(\".sort_content\").find_elements_by_tag_name(\"ul\")\n",
        "#print(len(tag_names))\n",
        "\n",
        "for index,tag in enumerate(tag_names):\n",
        "  print((index +1,[tag.text.split('\\n')[0],tag.text.split('\\n')[1].split('|')[0]]))"
      ],
      "execution_count": null,
      "outputs": []
    },
    {
      "cell_type": "code",
      "metadata": {
        "id": "oDglxV6Od6Ux",
        "colab_type": "code",
        "colab": {}
      },
      "source": [
        "import urllib\n",
        "basic_url = \"https://search.shopping.naver.com/search/category.nhn?cat_id=50000167\"\n",
        "searchitem = \"cloth\"\n",
        "params ={\n",
        "    \"q\":searchitem,#quary\n",
        "    \"source\":\"lnms\",#source 키\n",
        "    \"tbm\":\"isch\",#문자열 \n",
        "    \"sa\":\"X\"\n",
        "}\n",
        "url = basic_url+\"?\"+urllib.parse.urlencode(params)\n",
        "wd.get(url)\n",
        "html_doc = wd.page_source\n",
        "print(html_doc)"
      ],
      "execution_count": null,
      "outputs": []
    },
    {
      "cell_type": "code",
      "metadata": {
        "id": "HcfQZRp9iOZj",
        "colab_type": "code",
        "colab": {}
      },
      "source": [
        "from selenium.webdriver.common.keys import Keys\n",
        "import random, time #웹페이지에 있는 이미지를 랜덤으로 시간 간격을 주고 수집\n",
        "#from bs4 import BeautifulSoup#태그 이름을 사용해서 찾음\n",
        "#한 페이지당 이미지 태그 찾기\n",
        "bs = BeautifulSoup(html_doc, 'html.parser')\n",
        "img_tags=bs.find_all(\"img\")#findall안에 태그이름 적기, list형태로 반환\n",
        "img_page = len(img_tags)#리스트에 저장되어 있는 원소의 개수를 확인\n",
        "print(img_page)\n",
        "\n",
        "#page 스크롤 다운\n",
        "body = wd.find_element_by_tag_name(\"body\")\n",
        "size, imgCnt = 143, 0 #한페이지의 이미지 개수 143개\n",
        "while imgCnt < size*5:\n",
        "  body.send_keys(Keys.PAGE_DOWN)#페이지 스크롤링\n",
        "  time.sleep(random.random())#스크롤링 다운하는 대기시간\n",
        "  imgCnt+=img_page\n",
        "  print(imgCnt)\n"
      ],
      "execution_count": null,
      "outputs": []
    },
    {
      "cell_type": "code",
      "metadata": {
        "id": "8Fv0O28alOSL",
        "colab_type": "code",
        "colab": {
          "base_uri": "https://localhost:8080/",
          "height": 54
        },
        "outputId": "beeebb5f-2d79-46a8-d6cc-83e498b17c4c"
      },
      "source": [
        "print(img_tags[0])"
      ],
      "execution_count": null,
      "outputs": [
        {
          "output_type": "stream",
          "text": [
            "<img alt=\"Earth Day 2020\" data-atf=\"true\" data-iml=\"277.7899999999818\" height=\"33\" src=\"https://www.google.com/logos/doodles/2020/earth-day-2020-6753651837108357.6-s.png\" width=\"92\"/>\n"
          ],
          "name": "stdout"
        }
      ]
    },
    {
      "cell_type": "code",
      "metadata": {
        "id": "54_J0pGak_Xj",
        "colab_type": "code",
        "colab": {
          "base_uri": "https://localhost:8080/",
          "height": 34
        },
        "outputId": "f490868c-aeae-483a-8805-f5a8cd28f321"
      },
      "source": [
        "from tqdm import tqdm #tqdm모듈 : 상태바\n",
        "srcURL=[]\n",
        "for tag in tqdm(img_tags):\n",
        "  if str(tag).find('data-src') != -1 and str(tag).find('https')<100:#위치값\n",
        "    srcURL.append(tag.get('data-src'))\n"
      ],
      "execution_count": null,
      "outputs": [
        {
          "output_type": "stream",
          "text": [
            "100%|██████████| 143/143 [00:00<00:00, 7782.35it/s]\n"
          ],
          "name": "stderr"
        }
      ]
    },
    {
      "cell_type": "code",
      "metadata": {
        "id": "oitiABWWIMXA",
        "colab_type": "code",
        "colab": {
          "base_uri": "https://localhost:8080/",
          "height": 54
        },
        "outputId": "454be80c-8c5b-4f1c-d470-e1fa2b78104f"
      },
      "source": [
        "print(srcURL[:2])"
      ],
      "execution_count": null,
      "outputs": [
        {
          "output_type": "stream",
          "text": [
            "['https://encrypted-tbn0.gstatic.com/images?q=tbn%3AANd9GcQDrErh74tYzHyGeC30d1fpxZVWQIseoj-4DSCob4MIwfJ7uy8soZzOldKLPQ&usqp=CAU', 'https://encrypted-tbn0.gstatic.com/images?q=tbn%3AANd9GcR7lFnxySO1y5agAlSHQaWy0qKiRFeQukiA1K5-qZqr1vTye_VSjLuc9aq7PQ&usqp=CAU']\n"
          ],
          "name": "stdout"
        }
      ]
    },
    {
      "cell_type": "code",
      "metadata": {
        "id": "Qc5UFLtBu922",
        "colab_type": "code",
        "colab": {}
      },
      "source": [
        "from urllib.request import urlretrieve#urlretrieve : url문서의 내용을 파일로 저장\n",
        "import os\n",
        "imageDir = \"/content/drive/My Drive/Colab Notebooks/\"+searchitem\n",
        "if not(os.path.isdir(imageDir)):\n",
        "  os.makedirs(imageDir)\n",
        "for i,src in tqdm(enumerate(srcURL)):#리스트에 있는 원소에 번호를 매김\n",
        "  urlretrieve(src, imageDir+\"/\"+str(i)+\".jpg\")\n"
      ],
      "execution_count": null,
      "outputs": []
    }
  ]
}
