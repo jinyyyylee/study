{
  "nbformat": 4,
  "nbformat_minor": 0,
  "metadata": {
    "colab": {
      "name": "빅데이터 기말.ipynb",
      "provenance": [],
      "collapsed_sections": []
    },
    "kernelspec": {
      "name": "python3",
      "display_name": "Python 3"
    }
  },
  "cells": [
    {
      "cell_type": "code",
      "metadata": {
        "id": "dfXKGtTi9g9k",
        "colab_type": "code",
        "colab": {
          "base_uri": "https://localhost:8080/",
          "height": 34
        },
        "outputId": "35015577-041f-4995-bdbd-6d41ef13d4d0"
      },
      "source": [
        "def cal(x,y):\n",
        "  add,sub,mul,div = x+y,x-y,x*y,x/y\n",
        "  return add,sub,mul,div\n",
        "add,sub,mul,div = cal(10,2)\n",
        "print(add,sub,mul,div)"
      ],
      "execution_count": null,
      "outputs": [
        {
          "output_type": "stream",
          "text": [
            "12 8 20 5.0\n"
          ],
          "name": "stdout"
        }
      ]
    },
    {
      "cell_type": "code",
      "metadata": {
        "id": "YHj4JW-PedEP",
        "colab_type": "code",
        "colab": {
          "base_uri": "https://localhost:8080/",
          "height": 34
        },
        "outputId": "53cda1a7-16b5-4da6-9ef4-19ce90e20482"
      },
      "source": [
        "def add_one(num):\n",
        "  num += 1\n",
        "  return num\n",
        "\n",
        "num = 5\n",
        "result = add_one(num)\n",
        "print(result, num)"
      ],
      "execution_count": null,
      "outputs": [
        {
          "output_type": "stream",
          "text": [
            "6 5\n"
          ],
          "name": "stdout"
        }
      ]
    },
    {
      "cell_type": "code",
      "metadata": {
        "id": "-nOrJiWOeumG",
        "colab_type": "code",
        "colab": {
          "base_uri": "https://localhost:8080/",
          "height": 34
        },
        "outputId": "e2003cbc-180f-4e57-8b4f-f29d11047431"
      },
      "source": [
        "def add_one():\n",
        "  global num\n",
        "  num += 1\n",
        "  return num\n",
        "num = 5\n",
        "result = add_one()\n",
        "print(result, num)"
      ],
      "execution_count": null,
      "outputs": [
        {
          "output_type": "stream",
          "text": [
            "6 6\n"
          ],
          "name": "stdout"
        }
      ]
    },
    {
      "cell_type": "code",
      "metadata": {
        "id": "_hwBgR7zgDHq",
        "colab_type": "code",
        "colab": {
          "base_uri": "https://localhost:8080/",
          "height": 52
        },
        "outputId": "51ceb951-a35f-4fa4-b922-278dc8e39bd6"
      },
      "source": [
        "def check_pwd(pwd):\n",
        "  if pwd == '1234':\n",
        "    return True\n",
        "  else:\n",
        "    return False\n",
        "\n",
        "cnt = 1\n",
        "while True:\n",
        "  pwd = input('비밀번호 4자리 입력:  ')\n",
        "  if check_pwd(pwd):\n",
        "    print('Correct !')\n",
        "    break\n",
        "  else:\n",
        "    if cnt == 5:\n",
        "      print('5회 이상 시도... 프로그램 종료')\n",
        "      break\n",
        "    print('Try against')\n",
        "  cnt += 1"
      ],
      "execution_count": null,
      "outputs": [
        {
          "output_type": "stream",
          "text": [
            "비밀번호 4자리 입력:  1234\n",
            "Correct !\n"
          ],
          "name": "stdout"
        }
      ]
    },
    {
      "cell_type": "code",
      "metadata": {
        "id": "edvrq2fLkmj8",
        "colab_type": "code",
        "colab": {
          "base_uri": "https://localhost:8080/",
          "height": 70
        },
        "outputId": "62b9dd86-e710-4112-f5c5-e8c197b4ec03"
      },
      "source": [
        "#range함수 사용법\n",
        "def my_range(start = 0, stop = 10, step = 1):\n",
        "  iter = [] #range()의 반환 데이터 타입을 리스트 정의\n",
        "\n",
        "  cnt = start\n",
        "  while cnt < stop:\n",
        "    iter.append(cnt)\n",
        "    cnt += step\n",
        "  return iter\n",
        "\n",
        "print(my_range(0,10,1))\n",
        "print(my_range(1,20,2))\n",
        "print(my_range())"
      ],
      "execution_count": null,
      "outputs": [
        {
          "output_type": "stream",
          "text": [
            "[0, 1, 2, 3, 4, 5, 6, 7, 8, 9]\n",
            "[1, 3, 5, 7, 9, 11, 13, 15, 17, 19]\n",
            "[0, 1, 2, 3, 4, 5, 6, 7, 8, 9]\n"
          ],
          "name": "stdout"
        }
      ]
    },
    {
      "cell_type": "code",
      "metadata": {
        "id": "CUSEhXBVmKrL",
        "colab_type": "code",
        "colab": {
          "base_uri": "https://localhost:8080/",
          "height": 52
        },
        "outputId": "278b22c1-dbab-43fc-c9ce-d399f4547a8d"
      },
      "source": [
        "def my_sum(arg):\n",
        "  total = 0\n",
        "  for i in arg:\n",
        "    total += i\n",
        "  return total\n",
        "print('total som : ',my_sum([1,2,3,4,5]))\n",
        "print('total sum : ',my_sum((2,5,10)))#알아두기"
      ],
      "execution_count": null,
      "outputs": [
        {
          "output_type": "stream",
          "text": [
            "total som :  15\n",
            "total sum :  17\n"
          ],
          "name": "stdout"
        }
      ]
    },
    {
      "cell_type": "code",
      "metadata": {
        "id": "1KLnwrNrnSVq",
        "colab_type": "code",
        "colab": {
          "base_uri": "https://localhost:8080/",
          "height": 122
        },
        "outputId": "a2feb517-44fc-4bdd-955d-d9fef09f72ec"
      },
      "source": [
        "def grade(score):\n",
        "  if score >= 90:\n",
        "    grade = 'A'\n",
        "  elif score >= 80:\n",
        "    grade = 'B'\n",
        "  elif score >= 70:\n",
        "    grade = 'C'\n",
        "  elif score >= 60:\n",
        "    grade = 'D'\n",
        "  else:\n",
        "    grade = 'F'\n",
        "  return grade\n",
        "\n",
        "db_score ={}\n",
        "for i in range(2):\n",
        "  name, score = input(\"stud's name? : \"), int(input('score ? :'))\n",
        "  score = grade(score)\n",
        "  db_score[name] = score\n",
        "\n",
        "cnt = 0\n",
        "while cnt < len(db_score.keys()):\n",
        "  print(list(db_score.keys())[cnt],\n",
        "        list(db_score.values())[cnt])\n",
        "  cnt += 1"
      ],
      "execution_count": null,
      "outputs": [
        {
          "output_type": "stream",
          "text": [
            "stud's name? : 이진영\n",
            "score ? :80\n",
            "stud's name? : 김하겸\n",
            "score ? :70\n",
            "이진영 B\n",
            "김하겸 C\n"
          ],
          "name": "stdout"
        }
      ]
    },
    {
      "cell_type": "code",
      "metadata": {
        "id": "M5Ugb4XKqf4A",
        "colab_type": "code",
        "colab": {
          "base_uri": "https://localhost:8080/",
          "height": 70
        },
        "outputId": "07392786-886f-4711-a78d-9a4fb6e3baf5"
      },
      "source": [
        "X, y = [1,2,3],[1,2.5,3.5]\n",
        "hyps = [0.5,1.0,1.5]\n",
        "\n",
        "def hyp(mat, theta):\n",
        "  result = []\n",
        "  for i in range(len(mat)):\n",
        "    result.append(mat[i] * theta)\n",
        "  return result\n",
        "def cost(m,y,X):\n",
        "  total = 0\n",
        "  for i in range(m):\n",
        "    squared_error = (y[i] - X[i]) ** 2\n",
        "    total += squared_error\n",
        "  return total * (1/(2*m))\n",
        "\n",
        "for i in range(len(hyps)):\n",
        "  hyp_values = hyp(X, hyps[i])\n",
        "\n",
        "  print(\"Cost for\", hyps[i], \"is\" , cost(len(X), y, hyp_values))\n"
      ],
      "execution_count": null,
      "outputs": [
        {
          "output_type": "stream",
          "text": [
            "Cost for 0.5 is 1.0833333333333333\n",
            "Cost for 1.0 is 0.08333333333333333\n",
            "Cost for 1.5 is 0.25\n"
          ],
          "name": "stdout"
        }
      ]
    },
    {
      "cell_type": "code",
      "metadata": {
        "id": "zNG_0o_Trpg2",
        "colab_type": "code",
        "colab": {
          "base_uri": "https://localhost:8080/",
          "height": 316
        },
        "outputId": "2d7df7ac-f3b4-40c9-962d-264fb951b2bc"
      },
      "source": [
        "import numpy as np\n",
        "\n",
        "X = np.array([[1],[2],[3]])\n",
        "y = np.array([[1],[2.5],[3.5]])\n",
        "print(X)\n",
        "print(y)\n",
        "\n",
        "thetas = np.array([[[0.,0.5]],[[0.,1.]],[[0.,1.5]]])\n",
        "print(thetas)\n",
        "\n",
        "X = np.hstack([np.ones([3,1]),X])\n",
        "print(X)\n",
        "\n",
        "def cost(X,y,theta):\n",
        "  inner = np.power(((X @ theta.T)-y),2)\n",
        "  return np.sum(inner) / (2*len(X))\n",
        "\n",
        "for i in range(len(thetas)):\n",
        "  print(cost(X,y,thetas[i]))\n",
        "\n"
      ],
      "execution_count": null,
      "outputs": [
        {
          "output_type": "stream",
          "text": [
            "[[1]\n",
            " [2]\n",
            " [3]]\n",
            "[[1. ]\n",
            " [2.5]\n",
            " [3.5]]\n",
            "[[[0.  0.5]]\n",
            "\n",
            " [[0.  1. ]]\n",
            "\n",
            " [[0.  1.5]]]\n",
            "[[1. 1.]\n",
            " [1. 2.]\n",
            " [1. 3.]]\n",
            "1.0833333333333333\n",
            "0.08333333333333333\n",
            "0.25\n"
          ],
          "name": "stdout"
        }
      ]
    },
    {
      "cell_type": "code",
      "metadata": {
        "id": "OmNQMr0VMRpl",
        "colab_type": "code",
        "colab": {
          "base_uri": "https://localhost:8080/",
          "height": 87
        },
        "outputId": "28f422c4-2369-41a1-8459-d62947ba120b"
      },
      "source": [
        "##\n",
        "num = int(input('누적합계를 구할 수 를 입력: '))\n",
        "s = 0\n",
        "\n",
        "for i in range(1,num+1,1):\n",
        "  s = s+i\n",
        "  print('i={},s={}'.format(i,s))"
      ],
      "execution_count": null,
      "outputs": [
        {
          "output_type": "stream",
          "text": [
            "누적합계를 구할 수 를 입력: 3\n",
            "i=1,s=1\n",
            "i=2,s=3\n",
            "i=3,s=6\n"
          ],
          "name": "stdout"
        }
      ]
    },
    {
      "cell_type": "code",
      "metadata": {
        "id": "zPBv1mW7OMpV",
        "colab_type": "code",
        "colab": {
          "base_uri": "https://localhost:8080/",
          "height": 70
        },
        "outputId": "500f96cd-a359-473a-9b06-bec98a7ff098"
      },
      "source": [
        "for i in range(3):\n",
        "  for j in range(3):\n",
        "    print(\"*\",end=' ')\n",
        "  print('')"
      ],
      "execution_count": null,
      "outputs": [
        {
          "output_type": "stream",
          "text": [
            "* * * \n",
            "* * * \n",
            "* * * \n"
          ],
          "name": "stdout"
        }
      ]
    }
  ]
}