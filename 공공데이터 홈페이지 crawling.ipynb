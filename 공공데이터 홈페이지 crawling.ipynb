{
  "nbformat": 4,
  "nbformat_minor": 0,
  "metadata": {
    "colab": {
      "name": "Untitled7.ipynb",
      "provenance": [],
      "collapsed_sections": []
    },
    "kernelspec": {
      "name": "python3",
      "display_name": "Python 3"
    }
  },
  "cells": [
    {
      "cell_type": "code",
      "metadata": {
        "id": "WMJnimrIMwj2",
        "colab_type": "code",
        "colab": {}
      },
      "source": [
        "import matplotlib.pyplot as plt\n",
        "%matplotlib inline\n",
        "import numpy as np\n",
        "import pandas as pd\n",
        "from numpy import NAN\n"
      ],
      "execution_count": null,
      "outputs": []
    },
    {
      "cell_type": "code",
      "metadata": {
        "id": "xpbi-ZHKOFm8",
        "colab_type": "code",
        "colab": {}
      },
      "source": [
        "df = pd.read_csv(\"/content/drive/My Drive/청소년의 평생 음주 경험률(2018).csv\", engine='python', encoding='euc-kr',error_bad_lines=False)\n",
        "display(df)\n",
        "#청소년의 평생 음주 경험률을 남/녀/중/고/일반계/특성화별로 수치화하여 시각화"
      ],
      "execution_count": null,
      "outputs": []
    },
    {
      "cell_type": "markdown",
      "metadata": {
        "id": "BQnVRZ9QAkle",
        "colab_type": "text"
      },
      "source": [
        "직선 그래프"
      ]
    },
    {
      "cell_type": "code",
      "metadata": {
        "id": "7W7OURpDQ_PR",
        "colab_type": "code",
        "colab": {}
      },
      "source": [
        "import csv\n",
        "x = df['연도']\n",
        "y1=df['남(성별)']\n",
        "y2=df['여(성별)']\n",
        "y3=df['중학교(학교급)']\n",
        "y4=df['고등학교(학교급)']\n",
        "y5=df['일반계고(학교급)']\n",
        "y6=df['특성화계고(학교급)']\n",
        "plt.xlabel('Year')\n",
        "plt.ylabel('Teenager')\n",
        "plt.plot(x,y1,label='MEN')\n",
        "plt.plot(x,y2,label='WOMAN')\n",
        "plt.plot(x,y3,label='MIDDLE')\n",
        "plt.plot(x,y4,label='HIGH')\n",
        "plt.plot(x,y5,label='NORMAL')\n",
        "plt.plot(x,y6,label='SPECIAL')\n",
        "plt.legend(loc=\"upper left\")\n",
        "plt.title('Le Petit Prince: Sold & Left')\n",
        "plt.show()"
      ],
      "execution_count": null,
      "outputs": []
    },
    {
      "cell_type": "markdown",
      "metadata": {
        "id": "c7mu9XOGAnuu",
        "colab_type": "text"
      },
      "source": [
        "Series"
      ]
    },
    {
      "cell_type": "code",
      "metadata": {
        "id": "pmL7O-Vi4JJ3",
        "colab_type": "code",
        "colab": {}
      },
      "source": [
        "x = pd.Series(df['남(성별)'])\n",
        "print(x)\n",
        "x= pd.Series(df['여(성별)'],index=df['연도'])\n",
        "display(x)"
      ],
      "execution_count": null,
      "outputs": []
    },
    {
      "cell_type": "markdown",
      "metadata": {
        "id": "bqUTYirFAsEp",
        "colab_type": "text"
      },
      "source": [
        "데이터 프레임 합치기"
      ]
    },
    {
      "cell_type": "code",
      "metadata": {
        "id": "3NiDe27D7gPV",
        "colab_type": "code",
        "colab": {}
      },
      "source": [
        "dff = np.random.randint(20,size=14)*20\n",
        "df_f = pd.DataFrame(df1, columns=['randomint'])\n",
        "dfsum = pd.concat([df, df_1],axis=1)\n",
        "dfsum"
      ],
      "execution_count": null,
      "outputs": []
    }
  ]
}